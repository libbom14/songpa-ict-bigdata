{
 "cells": [
  {
   "cell_type": "code",
   "id": "initial_id",
   "metadata": {
    "collapsed": true,
    "ExecuteTime": {
     "end_time": "2024-08-02T04:31:59.739332Z",
     "start_time": "2024-08-02T04:31:59.529498Z"
    }
   },
   "source": [
    "import pandas as pd\n",
    "\n",
    "cdc = pd.read_csv('cdc.txt')\n",
    "cdc"
   ],
   "outputs": [
    {
     "data": {
      "text/plain": [
       "      genhlth \"exerany\" \"hlthplan\" \"smoke100\" \"height\" \"weight\" \"wtdesire\" \"age\" \"gender\"\n",
       "0                       1 \"good\" 0 1 0 70 175 175 77 \"m\"                                 \n",
       "1                       2 \"good\" 0 1 1 64 125 115 33 \"f\"                                 \n",
       "2                       3 \"good\" 1 1 1 60 105 105 49 \"f\"                                 \n",
       "3                       4 \"good\" 1 1 0 66 132 124 42 \"f\"                                 \n",
       "4                  5 \"very good\" 0 1 0 61 150 130 55 \"f\"                                 \n",
       "...                                                  ...                                 \n",
       "19995               19996 \"good\" 1 1 0 66 215 140 23 \"f\"                                 \n",
       "19996          19997 \"excellent\" 0 1 0 73 200 185 35 \"m\"                                 \n",
       "19997               19998 \"poor\" 0 1 0 65 216 150 57 \"f\"                                 \n",
       "19998               19999 \"good\" 1 1 0 67 165 165 81 \"f\"                                 \n",
       "19999               20000 \"good\" 1 1 1 69 170 165 83 \"m\"                                 \n",
       "\n",
       "[20000 rows x 1 columns]"
      ],
      "text/html": [
       "<div>\n",
       "<style scoped>\n",
       "    .dataframe tbody tr th:only-of-type {\n",
       "        vertical-align: middle;\n",
       "    }\n",
       "\n",
       "    .dataframe tbody tr th {\n",
       "        vertical-align: top;\n",
       "    }\n",
       "\n",
       "    .dataframe thead th {\n",
       "        text-align: right;\n",
       "    }\n",
       "</style>\n",
       "<table border=\"1\" class=\"dataframe\">\n",
       "  <thead>\n",
       "    <tr style=\"text-align: right;\">\n",
       "      <th></th>\n",
       "      <th>genhlth \"exerany\" \"hlthplan\" \"smoke100\" \"height\" \"weight\" \"wtdesire\" \"age\" \"gender\"</th>\n",
       "    </tr>\n",
       "  </thead>\n",
       "  <tbody>\n",
       "    <tr>\n",
       "      <th>0</th>\n",
       "      <td>1 \"good\" 0 1 0 70 175 175 77 \"m\"</td>\n",
       "    </tr>\n",
       "    <tr>\n",
       "      <th>1</th>\n",
       "      <td>2 \"good\" 0 1 1 64 125 115 33 \"f\"</td>\n",
       "    </tr>\n",
       "    <tr>\n",
       "      <th>2</th>\n",
       "      <td>3 \"good\" 1 1 1 60 105 105 49 \"f\"</td>\n",
       "    </tr>\n",
       "    <tr>\n",
       "      <th>3</th>\n",
       "      <td>4 \"good\" 1 1 0 66 132 124 42 \"f\"</td>\n",
       "    </tr>\n",
       "    <tr>\n",
       "      <th>4</th>\n",
       "      <td>5 \"very good\" 0 1 0 61 150 130 55 \"f\"</td>\n",
       "    </tr>\n",
       "    <tr>\n",
       "      <th>...</th>\n",
       "      <td>...</td>\n",
       "    </tr>\n",
       "    <tr>\n",
       "      <th>19995</th>\n",
       "      <td>19996 \"good\" 1 1 0 66 215 140 23 \"f\"</td>\n",
       "    </tr>\n",
       "    <tr>\n",
       "      <th>19996</th>\n",
       "      <td>19997 \"excellent\" 0 1 0 73 200 185 35 \"m\"</td>\n",
       "    </tr>\n",
       "    <tr>\n",
       "      <th>19997</th>\n",
       "      <td>19998 \"poor\" 0 1 0 65 216 150 57 \"f\"</td>\n",
       "    </tr>\n",
       "    <tr>\n",
       "      <th>19998</th>\n",
       "      <td>19999 \"good\" 1 1 0 67 165 165 81 \"f\"</td>\n",
       "    </tr>\n",
       "    <tr>\n",
       "      <th>19999</th>\n",
       "      <td>20000 \"good\" 1 1 1 69 170 165 83 \"m\"</td>\n",
       "    </tr>\n",
       "  </tbody>\n",
       "</table>\n",
       "<p>20000 rows × 1 columns</p>\n",
       "</div>"
      ]
     },
     "execution_count": 1,
     "metadata": {},
     "output_type": "execute_result"
    }
   ],
   "execution_count": 1
  },
  {
   "metadata": {},
   "cell_type": "code",
   "outputs": [],
   "execution_count": null,
   "source": "",
   "id": "c4f9502757d07f23"
  }
 ],
 "metadata": {
  "kernelspec": {
   "display_name": "Python 3",
   "language": "python",
   "name": "python3"
  },
  "language_info": {
   "codemirror_mode": {
    "name": "ipython",
    "version": 2
   },
   "file_extension": ".py",
   "mimetype": "text/x-python",
   "name": "python",
   "nbconvert_exporter": "python",
   "pygments_lexer": "ipython2",
   "version": "2.7.6"
  }
 },
 "nbformat": 4,
 "nbformat_minor": 5
}
