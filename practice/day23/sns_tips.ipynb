{
 "cells": [
  {
   "cell_type": "code",
   "id": "initial_id",
   "metadata": {
    "collapsed": true,
    "ExecuteTime": {
     "end_time": "2024-08-05T04:20:09.072971Z",
     "start_time": "2024-08-05T04:20:09.062527Z"
    }
   },
   "source": [
    "# # tips 데이터프레임의 tip변수에 대한 양측검정 실시 - a : 검정을 원하는 자료\n",
    "# - popmean : 귀무가설에서 지정된 모수값\n",
    "# - alternative= : “two-sided”(양측검정, 기본값),\n",
    "# “less” (왼쪽 단측검정),\n",
    "# “greater” (오른쪽 단측검정) - <실행결과> statistic= : t-검정통계량 값,\n",
    "# pvalue= : 유의확률, df= : 자유도\n",
    "import seaborn as sns\n",
    "\n",
    "tips = sns.load_dataset(\"tips\")\n",
    "from scipy.stats import ttest_1samp\n",
    "\n",
    "ttest_1samp(tips[\"tip\"], popmean=2.8)"
   ],
   "outputs": [
    {
     "data": {
      "text/plain": [
       "TtestResult(statistic=np.float64(2.2384552191440736), pvalue=np.float64(0.02609755920765945), df=np.int64(243))"
      ]
     },
     "execution_count": 3,
     "metadata": {},
     "output_type": "execute_result"
    }
   ],
   "execution_count": 3
  },
  {
   "metadata": {},
   "cell_type": "code",
   "outputs": [],
   "execution_count": null,
   "source": "",
   "id": "9f72f7a687d68a4a"
  }
 ],
 "metadata": {
  "kernelspec": {
   "display_name": "Python 3",
   "language": "python",
   "name": "python3"
  },
  "language_info": {
   "codemirror_mode": {
    "name": "ipython",
    "version": 2
   },
   "file_extension": ".py",
   "mimetype": "text/x-python",
   "name": "python",
   "nbconvert_exporter": "python",
   "pygments_lexer": "ipython2",
   "version": "2.7.6"
  }
 },
 "nbformat": 4,
 "nbformat_minor": 5
}
