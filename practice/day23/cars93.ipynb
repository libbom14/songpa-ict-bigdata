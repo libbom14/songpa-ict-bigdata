{
 "cells": [
  {
   "metadata": {
    "ExecuteTime": {
     "end_time": "2024-08-05T03:04:32.050320Z",
     "start_time": "2024-08-05T03:04:32.027569Z"
    }
   },
   "cell_type": "code",
   "source": [
    "# ▶ cars93의 \"Origin\"변수와 \"Type\"변수에 대한 2차원 빈도표 작성\n",
    "# - index= : 행(row) 변수 지정\n",
    "# - columns= : 열(column) 변수 지정,\n",
    "# - margins= : 주변합 계산 출력 여부 지정, 기본값은 False - normalize=: 비율 출력 옵션지정 (“all”: 전체비율,\n",
    "# index” : 행비율, “columns”: 열비율) , 기본값은 False\n",
    "import pandas as pd\n",
    "cars93 = pd.read_csv(\"../day22/cars93.csv\")\n",
    "pd.crosstab(index=cars93[\"Origin\"],columns=cars93[\"Type\"])"
   ],
   "id": "ebf8ec5fdc85b2dc",
   "outputs": [
    {
     "data": {
      "text/plain": [
       "Type      Compact    Large   Midsize     Small    Sporty       Van        합계\n",
       "Origin                                                                      \n",
       "USA      0.075269  0.11828  0.107527  0.075269  0.086022  0.053763  0.516129\n",
       "non-USA  0.096774  0.00000  0.129032  0.150538  0.064516  0.043011  0.483871\n",
       "합계       0.172043  0.11828  0.236559  0.225806  0.150538  0.096774  1.000000"
      ],
      "text/html": [
       "<div>\n",
       "<style scoped>\n",
       "    .dataframe tbody tr th:only-of-type {\n",
       "        vertical-align: middle;\n",
       "    }\n",
       "\n",
       "    .dataframe tbody tr th {\n",
       "        vertical-align: top;\n",
       "    }\n",
       "\n",
       "    .dataframe thead th {\n",
       "        text-align: right;\n",
       "    }\n",
       "</style>\n",
       "<table border=\"1\" class=\"dataframe\">\n",
       "  <thead>\n",
       "    <tr style=\"text-align: right;\">\n",
       "      <th>Type</th>\n",
       "      <th>Compact</th>\n",
       "      <th>Large</th>\n",
       "      <th>Midsize</th>\n",
       "      <th>Small</th>\n",
       "      <th>Sporty</th>\n",
       "      <th>Van</th>\n",
       "      <th>합계</th>\n",
       "    </tr>\n",
       "    <tr>\n",
       "      <th>Origin</th>\n",
       "      <th></th>\n",
       "      <th></th>\n",
       "      <th></th>\n",
       "      <th></th>\n",
       "      <th></th>\n",
       "      <th></th>\n",
       "      <th></th>\n",
       "    </tr>\n",
       "  </thead>\n",
       "  <tbody>\n",
       "    <tr>\n",
       "      <th>USA</th>\n",
       "      <td>0.075269</td>\n",
       "      <td>0.11828</td>\n",
       "      <td>0.107527</td>\n",
       "      <td>0.075269</td>\n",
       "      <td>0.086022</td>\n",
       "      <td>0.053763</td>\n",
       "      <td>0.516129</td>\n",
       "    </tr>\n",
       "    <tr>\n",
       "      <th>non-USA</th>\n",
       "      <td>0.096774</td>\n",
       "      <td>0.00000</td>\n",
       "      <td>0.129032</td>\n",
       "      <td>0.150538</td>\n",
       "      <td>0.064516</td>\n",
       "      <td>0.043011</td>\n",
       "      <td>0.483871</td>\n",
       "    </tr>\n",
       "    <tr>\n",
       "      <th>합계</th>\n",
       "      <td>0.172043</td>\n",
       "      <td>0.11828</td>\n",
       "      <td>0.236559</td>\n",
       "      <td>0.225806</td>\n",
       "      <td>0.150538</td>\n",
       "      <td>0.096774</td>\n",
       "      <td>1.000000</td>\n",
       "    </tr>\n",
       "  </tbody>\n",
       "</table>\n",
       "</div>"
      ]
     },
     "execution_count": 1,
     "metadata": {},
     "output_type": "execute_result"
    }
   ],
   "execution_count": 1
  },
  {
   "metadata": {
    "ExecuteTime": {
     "end_time": "2024-08-05T03:04:50.501863Z",
     "start_time": "2024-08-05T03:04:50.490345Z"
    }
   },
   "cell_type": "code",
   "source": "pd.crosstab(index=cars93[\"Origin\"],columns=cars93[\"Type\"], margins=True, margins_name = \"합계\")",
   "id": "81ba36a994a7dffe",
   "outputs": [
    {
     "data": {
      "text/plain": [
       "Type     Compact  Large  Midsize  Small  Sporty  Van  합계\n",
       "Origin                                                  \n",
       "USA            7     11       10      7       8    5  48\n",
       "non-USA        9      0       12     14       6    4  45\n",
       "합계            16     11       22     21      14    9  93"
      ],
      "text/html": [
       "<div>\n",
       "<style scoped>\n",
       "    .dataframe tbody tr th:only-of-type {\n",
       "        vertical-align: middle;\n",
       "    }\n",
       "\n",
       "    .dataframe tbody tr th {\n",
       "        vertical-align: top;\n",
       "    }\n",
       "\n",
       "    .dataframe thead th {\n",
       "        text-align: right;\n",
       "    }\n",
       "</style>\n",
       "<table border=\"1\" class=\"dataframe\">\n",
       "  <thead>\n",
       "    <tr style=\"text-align: right;\">\n",
       "      <th>Type</th>\n",
       "      <th>Compact</th>\n",
       "      <th>Large</th>\n",
       "      <th>Midsize</th>\n",
       "      <th>Small</th>\n",
       "      <th>Sporty</th>\n",
       "      <th>Van</th>\n",
       "      <th>합계</th>\n",
       "    </tr>\n",
       "    <tr>\n",
       "      <th>Origin</th>\n",
       "      <th></th>\n",
       "      <th></th>\n",
       "      <th></th>\n",
       "      <th></th>\n",
       "      <th></th>\n",
       "      <th></th>\n",
       "      <th></th>\n",
       "    </tr>\n",
       "  </thead>\n",
       "  <tbody>\n",
       "    <tr>\n",
       "      <th>USA</th>\n",
       "      <td>7</td>\n",
       "      <td>11</td>\n",
       "      <td>10</td>\n",
       "      <td>7</td>\n",
       "      <td>8</td>\n",
       "      <td>5</td>\n",
       "      <td>48</td>\n",
       "    </tr>\n",
       "    <tr>\n",
       "      <th>non-USA</th>\n",
       "      <td>9</td>\n",
       "      <td>0</td>\n",
       "      <td>12</td>\n",
       "      <td>14</td>\n",
       "      <td>6</td>\n",
       "      <td>4</td>\n",
       "      <td>45</td>\n",
       "    </tr>\n",
       "    <tr>\n",
       "      <th>합계</th>\n",
       "      <td>16</td>\n",
       "      <td>11</td>\n",
       "      <td>22</td>\n",
       "      <td>21</td>\n",
       "      <td>14</td>\n",
       "      <td>9</td>\n",
       "      <td>93</td>\n",
       "    </tr>\n",
       "  </tbody>\n",
       "</table>\n",
       "</div>"
      ]
     },
     "execution_count": 3,
     "metadata": {},
     "output_type": "execute_result"
    }
   ],
   "execution_count": 3
  },
  {
   "metadata": {
    "ExecuteTime": {
     "end_time": "2024-08-05T03:04:51.120235Z",
     "start_time": "2024-08-05T03:04:51.101162Z"
    }
   },
   "cell_type": "code",
   "source": "pd.crosstab(index=cars93[\"Origin\"],columns=cars93[\"Type\"], margins=True, margins_name=\"합계\", normalize=\"all\")",
   "id": "eeac9c3a87b2d565",
   "outputs": [
    {
     "data": {
      "text/plain": [
       "Type      Compact    Large   Midsize     Small    Sporty       Van        합계\n",
       "Origin                                                                      \n",
       "USA      0.075269  0.11828  0.107527  0.075269  0.086022  0.053763  0.516129\n",
       "non-USA  0.096774  0.00000  0.129032  0.150538  0.064516  0.043011  0.483871\n",
       "합계       0.172043  0.11828  0.236559  0.225806  0.150538  0.096774  1.000000"
      ],
      "text/html": [
       "<div>\n",
       "<style scoped>\n",
       "    .dataframe tbody tr th:only-of-type {\n",
       "        vertical-align: middle;\n",
       "    }\n",
       "\n",
       "    .dataframe tbody tr th {\n",
       "        vertical-align: top;\n",
       "    }\n",
       "\n",
       "    .dataframe thead th {\n",
       "        text-align: right;\n",
       "    }\n",
       "</style>\n",
       "<table border=\"1\" class=\"dataframe\">\n",
       "  <thead>\n",
       "    <tr style=\"text-align: right;\">\n",
       "      <th>Type</th>\n",
       "      <th>Compact</th>\n",
       "      <th>Large</th>\n",
       "      <th>Midsize</th>\n",
       "      <th>Small</th>\n",
       "      <th>Sporty</th>\n",
       "      <th>Van</th>\n",
       "      <th>합계</th>\n",
       "    </tr>\n",
       "    <tr>\n",
       "      <th>Origin</th>\n",
       "      <th></th>\n",
       "      <th></th>\n",
       "      <th></th>\n",
       "      <th></th>\n",
       "      <th></th>\n",
       "      <th></th>\n",
       "      <th></th>\n",
       "    </tr>\n",
       "  </thead>\n",
       "  <tbody>\n",
       "    <tr>\n",
       "      <th>USA</th>\n",
       "      <td>0.075269</td>\n",
       "      <td>0.11828</td>\n",
       "      <td>0.107527</td>\n",
       "      <td>0.075269</td>\n",
       "      <td>0.086022</td>\n",
       "      <td>0.053763</td>\n",
       "      <td>0.516129</td>\n",
       "    </tr>\n",
       "    <tr>\n",
       "      <th>non-USA</th>\n",
       "      <td>0.096774</td>\n",
       "      <td>0.00000</td>\n",
       "      <td>0.129032</td>\n",
       "      <td>0.150538</td>\n",
       "      <td>0.064516</td>\n",
       "      <td>0.043011</td>\n",
       "      <td>0.483871</td>\n",
       "    </tr>\n",
       "    <tr>\n",
       "      <th>합계</th>\n",
       "      <td>0.172043</td>\n",
       "      <td>0.11828</td>\n",
       "      <td>0.236559</td>\n",
       "      <td>0.225806</td>\n",
       "      <td>0.150538</td>\n",
       "      <td>0.096774</td>\n",
       "      <td>1.000000</td>\n",
       "    </tr>\n",
       "  </tbody>\n",
       "</table>\n",
       "</div>"
      ]
     },
     "execution_count": 4,
     "metadata": {},
     "output_type": "execute_result"
    }
   ],
   "execution_count": 4
  },
  {
   "metadata": {
    "ExecuteTime": {
     "end_time": "2024-08-05T03:13:26.152626Z",
     "start_time": "2024-08-05T03:13:26.053950Z"
    }
   },
   "cell_type": "code",
   "source": [
    "# statsmodels.graphics.mosaicplot에서 mosaic 함수 import\n",
    "from statsmodels.graphics.mosaicplot import mosaic\n",
    "# ▶ cars93의 'Origin‘, 변수와 'Type' 변수에 대하여 모자이크 도표 작성 - data : 대상객체(table, dict, Series, ndarray, DataFrame)지정\n",
    "# - index = : 범주형 변수의 순서 지정, 데이터프레임의 열 지정\n",
    "# - title=: 축의제목지정\n",
    "# - axes_label= : 축에서 각 범주 이름의 출력여부 지정\n",
    "mosaic(cars93,['Origin','Type'])"
   ],
   "id": "48d8672e3497f7f9",
   "outputs": [
    {
     "data": {
      "text/plain": [
       "(<Figure size 640x480 with 3 Axes>,\n",
       " {('non-USA', 'Small'): (0.0,\n",
       "   np.float64(0.0),\n",
       "   0.48146364949446324,\n",
       "   np.float64(0.30601092896174864)),\n",
       "  ('non-USA', 'Midsize'): (0.0,\n",
       "   np.float64(0.3092896174863388),\n",
       "   0.48146364949446324,\n",
       "   np.float64(0.2622950819672131)),\n",
       "  ('non-USA', 'Compact'): (0.0,\n",
       "   np.float64(0.5748633879781421),\n",
       "   0.48146364949446324,\n",
       "   np.float64(0.19672131147540992)),\n",
       "  ('non-USA', 'Large'): (0.0,\n",
       "   np.float64(0.7748633879781421),\n",
       "   0.48146364949446324,\n",
       "   np.float64(0.0)),\n",
       "  ('non-USA', 'Sporty'): (0.0,\n",
       "   np.float64(0.7781420765027323),\n",
       "   0.48146364949446324,\n",
       "   np.float64(0.13114754098360654)),\n",
       "  ('non-USA', 'Van'): (0.0,\n",
       "   np.float64(0.9125683060109291),\n",
       "   0.48146364949446324,\n",
       "   np.float64(0.08743169398907107)),\n",
       "  ('USA', 'Small'): (0.48643877387257267,\n",
       "   np.float64(0.0),\n",
       "   0.5135612261274274,\n",
       "   np.float64(0.1434426229508197)),\n",
       "  ('USA', 'Midsize'): (0.48643877387257267,\n",
       "   np.float64(0.14672131147540984),\n",
       "   0.5135612261274274,\n",
       "   np.float64(0.20491803278688528)),\n",
       "  ('USA', 'Compact'): (0.48643877387257267,\n",
       "   np.float64(0.3549180327868853),\n",
       "   0.5135612261274274,\n",
       "   np.float64(0.14344262295081966)),\n",
       "  ('USA', 'Large'): (0.48643877387257267,\n",
       "   np.float64(0.5016393442622952),\n",
       "   0.5135612261274274,\n",
       "   np.float64(0.22540983606557374)),\n",
       "  ('USA', 'Sporty'): (0.48643877387257267,\n",
       "   np.float64(0.730327868852459),\n",
       "   0.5135612261274274,\n",
       "   np.float64(0.16393442622950827)),\n",
       "  ('USA', 'Van'): (0.48643877387257267,\n",
       "   np.float64(0.8975409836065575),\n",
       "   0.5135612261274274,\n",
       "   np.float64(0.1024590163934426))})"
      ]
     },
     "execution_count": 6,
     "metadata": {},
     "output_type": "execute_result"
    },
    {
     "data": {
      "text/plain": [
       "<Figure size 640x480 with 3 Axes>"
      ],
      "image/png": "[encoded data removed]"
     },
     "metadata": {},
     "output_type": "display_data"
    }
   ],
   "execution_count": 6
  },
  {
   "metadata": {
    "ExecuteTime": {
     "end_time": "2024-08-05T03:13:53.760244Z",
     "start_time": "2024-08-05T03:13:53.678043Z"
    }
   },
   "cell_type": "code",
   "source": [
    "# 산점도\n",
    "# cars93의 Weight와 MPG.city 간의 산점도 작성 - x : x축 변수, y : y축 변수\n",
    "# - kind = : 생성할 플롯의 종류를 지정\n",
    "# ∙ ‘line’ : line plot(기본값, 선도표)\n",
    "# ∙ ‘bar’ : vertical bar chart(막대도표) ∙ ‘hist’ : histogram(히스토그램)\n",
    "# ∙ ‘scatter’ : scatter plot(산점도)\n",
    "cars93.plot(x='Weight',y='MPG.city',kind='scatter')"
   ],
   "id": "5edee1674df45a11",
   "outputs": [
    {
     "data": {
      "text/plain": [
       "<Axes: xlabel='Weight', ylabel='MPG.city'>"
      ]
     },
     "execution_count": 7,
     "metadata": {},
     "output_type": "execute_result"
    },
    {
     "data": {
      "text/plain": [
       "<Figure size 640x480 with 1 Axes>"
      ],
      "image/png": "[encoded data removed]"
     },
     "metadata": {},
     "output_type": "display_data"
    }
   ],
   "execution_count": 7
  },
  {
   "metadata": {
    "ExecuteTime": {
     "end_time": "2024-08-05T03:16:00.029396Z",
     "start_time": "2024-08-05T03:16:00.026205Z"
    }
   },
   "cell_type": "code",
   "source": [
    "# cars93의 Weight와 MPG.city 사이의 상관계수 구하기\n",
    "import numpy as np\n",
    "np.corrcoef(cars93[\"Weight\"],cars93[\"MPG.city\"])"
   ],
   "id": "cac8c1270b1244d7",
   "outputs": [
    {
     "data": {
      "text/plain": [
       "array([[ 1.        , -0.84313855],\n",
       "       [-0.84313855,  1.        ]])"
      ]
     },
     "execution_count": 9,
     "metadata": {},
     "output_type": "execute_result"
    }
   ],
   "execution_count": 9
  },
  {
   "metadata": {},
   "cell_type": "code",
   "outputs": [],
   "execution_count": null,
   "source": "",
   "id": "3f8fb932ac2e8934"
  }
 ],
 "metadata": {
  "kernelspec": {
   "display_name": "Python 3",
   "language": "python",
   "name": "python3"
  },
  "language_info": {
   "codemirror_mode": {
    "name": "ipython",
    "version": 2
   },
   "file_extension": ".py",
   "mimetype": "text/x-python",
   "name": "python",
   "nbconvert_exporter": "python",
   "pygments_lexer": "ipython2",
   "version": "2.7.6"
  }
 },
 "nbformat": 4,
 "nbformat_minor": 5
}
