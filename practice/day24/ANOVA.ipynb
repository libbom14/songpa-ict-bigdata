{
 "cells": [
  {
   "cell_type": "code",
   "id": "initial_id",
   "metadata": {
    "collapsed": true,
    "ExecuteTime": {
     "end_time": "2024-08-06T02:33:03.691820Z",
     "start_time": "2024-08-06T02:33:03.402590Z"
    }
   },
   "source": [
    "import seaborn as sns\n",
    "import statsmodels.api as sm\n",
    "from statsmodels.formula.api import ols\n",
    "\n",
    "tips = sns.load_dataset(\"tips\")\n",
    "\n",
    "# 요일별로 총매출액에 차이가 있는지 분산분석 실시 ols(formula).fit()\n",
    "# - 설명변수는 범주형 자료여야 함\n",
    "model = ols('total_bill ~ C(day)', data=tips).fit()\n",
    "# anova_lm() : (statsmodel패키지)\n",
    "# 적합된 선형모형에 대한 분산분석표를 출력\n",
    "table = sm.stats.anova_lm(model)\n",
    "print(table)"
   ],
   "outputs": [
    {
     "name": "stdout",
     "output_type": "stream",
     "text": [
      "             df        sum_sq     mean_sq         F    PR(>F)\n",
      "C(day)      3.0    643.941362  214.647121  2.767479  0.042454\n",
      "Residual  240.0  18614.522721   77.560511       NaN       NaN\n"
     ]
    }
   ],
   "execution_count": 2
  },
  {
   "metadata": {
    "ExecuteTime": {
     "end_time": "2024-08-06T02:35:12.320378Z",
     "start_time": "2024-08-06T02:35:12.298636Z"
    }
   },
   "cell_type": "code",
   "source": [
    "# 예. 어떤 직물의 가공시 처리액의 농도가 직물의 인장강도에 영향을 미치는 지의 여부를 조사하기 위해, 네 가지 농도에서 반복 각 5회, 총 20회를 핸덤하게 처리한 후 인장강도를 측정한 결과가 아래 표와 같다. 이 자료에 대하여 일원배치법의 모형을 적용할 때, 농도에 따른 인장강도에 차가 있는지를 유의수준 𝛼 = 0.05에서 검정해보자.\n",
    "rawdata = {'type': [1, 1, 1, 1, 1, 2, 2, 2, 2, 2, 3, 3, 3, 3, 3, 4, 4, 4, 4, 4],\n",
    "           'strength': [47, 58, 51, 61, 46, 51, 62, 31, 46, 49, 50, 38, 47, 27, 23, 22, 23, 28, 42, 25]}\n",
    "from pandas import DataFrame\n",
    "\n",
    "y = DataFrame(rawdata)\n",
    "from statsmodels.formula.api import ols\n",
    "import statsmodels.api as sm\n",
    "\n",
    "model1 = ols('strength ~ C(type)', data=y).fit()\n",
    "table1 = sm.stats.anova_lm(model1)\n",
    "print(table1)"
   ],
   "id": "a5c9068b68cf76ae",
   "outputs": [
    {
     "name": "stdout",
     "output_type": "stream",
     "text": [
      "            df   sum_sq  mean_sq         F    PR(>F)\n",
      "C(type)    3.0  1826.55   608.85  6.459947  0.004514\n",
      "Residual  16.0  1508.00    94.25       NaN       NaN\n"
     ]
    }
   ],
   "execution_count": 3
  },
  {
   "metadata": {},
   "cell_type": "code",
   "outputs": [],
   "execution_count": null,
   "source": "",
   "id": "2414cdf4a9f9cdb2"
  }
 ],
 "metadata": {
  "kernelspec": {
   "display_name": "Python 3",
   "language": "python",
   "name": "python3"
  },
  "language_info": {
   "codemirror_mode": {
    "name": "ipython",
    "version": 2
   },
   "file_extension": ".py",
   "mimetype": "text/x-python",
   "name": "python",
   "nbconvert_exporter": "python",
   "pygments_lexer": "ipython2",
   "version": "2.7.6"
  }
 },
 "nbformat": 4,
 "nbformat_minor": 5
}
