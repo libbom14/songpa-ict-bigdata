{
 "cells": [
  {
   "cell_type": "code",
   "id": "initial_id",
   "metadata": {
    "collapsed": true,
    "ExecuteTime": {
     "end_time": "2024-08-06T01:57:37.193552Z",
     "start_time": "2024-08-06T01:57:37.191608Z"
    }
   },
   "source": "# 실험단위를 동질적인 쌍으로 묶고, 각 쌍에 두 처리를 랜덤 하게 적용한 다음, 각 쌍에서 얻은 관측값의 차로 두 모평균의 차에 대하여 추론",
   "outputs": [],
   "execution_count": 1
  },
  {
   "metadata": {
    "ExecuteTime": {
     "end_time": "2024-08-06T01:59:31.652443Z",
     "start_time": "2024-08-06T01:59:31.341184Z"
    }
   },
   "cell_type": "code",
   "source": [
    "# 예. 어떤 약의 부작용으로 혈압강하의 효과가 있는지 알아보기 위하여 15명의 환자를 대상으로 약의 복용 전후의 이완기 혈압을 측정하였더니 그 결과가 다음과 같았다.\n",
    "# 이 자료로부터 약이 혈압을 내린다는 주장을 할 수 있는지 유의수준 𝛼 = 0.05에서 검정하시오.\n",
    "# - ttest_rel 함수(scipy 패키지의 stats 모듈) : 대응비교\n",
    "import numpy as np\n",
    "from scipy.stats import ttest_rel\n",
    "\n",
    "before = np.array([70, 80, 72, 76, 76, 76, 72, 78, 82,\n",
    "                   64, 74, 92, 74, 68, 84])\n",
    "after = np.array([68, 72, 62, 70, 58, 66, 68, 52,\n",
    "                  64, 72, 74, 60, 74, 72, 74])\n",
    "# ttest_rel(a, b, alternative= )(scipy패키지)\n",
    "# - 대응표본에 대한 t-검정 수행, 검정통계량과 유의확률이 출력 - a, b,: 검정을 수행할 두 변수 값을 지정\n",
    "# - alternative= : “two-sided”(양측검정, 기본값) | “less”(왼쪽단측검정) | “greater”(오른쪽단측검정),\n",
    "# - <실행결과> t-검정통계량 값과 유의확률 출력\n",
    "ttest_rel(before, after, alternative=\"greater\")"
   ],
   "id": "8d130de229173172",
   "outputs": [
    {
     "data": {
      "text/plain": [
       "TtestResult(statistic=np.float64(3.105360487466109), pvalue=np.float64(0.0038747180533270594), df=np.int64(14))"
      ]
     },
     "execution_count": 2,
     "metadata": {},
     "output_type": "execute_result"
    }
   ],
   "execution_count": 2
  },
  {
   "metadata": {},
   "cell_type": "code",
   "outputs": [],
   "execution_count": null,
   "source": [
    "# 예.(textbooks.txt) 주어진 자료는 UCLA 내의 서점과 Amazon.com에서 판매되는 교재들의 가격에 대한 자료이다. 2010년 봄학기 에 개설된 UCLA의 강의 중에서 73개를 선택하여 각 강의에 쓰이는 교재의 온라인 판매 가격(amazNew) 과 오프라인의 판매 가 격(uclaNew)을 조사하였다. 교재의 판매가격은 판매 장소(온라인또는 오프라인)에 따라 차이가 난다고 볼 수 있는가? 적절한 가 설을 세우고 유의수준 𝛼 = 0.05에서 이를 검정하시오.\n",
    "import pandas as pd\n",
    "\n",
    "textbooks = pd.read_table(\"textbooks.txt\", sep=\" \")\n",
    "ttest_rel(textbooks.uclaNew, textbooks.amazNew)"
   ],
   "id": "1aa871fa97d1bf5d"
  }
 ],
 "metadata": {
  "kernelspec": {
   "display_name": "Python 3",
   "language": "python",
   "name": "python3"
  },
  "language_info": {
   "codemirror_mode": {
    "name": "ipython",
    "version": 2
   },
   "file_extension": ".py",
   "mimetype": "text/x-python",
   "name": "python",
   "nbconvert_exporter": "python",
   "pygments_lexer": "ipython2",
   "version": "2.7.6"
  }
 },
 "nbformat": 4,
 "nbformat_minor": 5
}
