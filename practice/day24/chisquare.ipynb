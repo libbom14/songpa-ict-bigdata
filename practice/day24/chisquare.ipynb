{
 "cells": [
  {
   "metadata": {
    "ExecuteTime": {
     "end_time": "2024-08-06T02:48:46.332685Z",
     "start_time": "2024-08-06T02:48:46.026306Z"
    }
   },
   "cell_type": "code",
   "source": [
    "import numpy as np\n",
    "\n",
    "Pea = np.array([315, 108, 101, 32])\n",
    "P0 = np.array([9 / 16, 3 / 16, 3 / 16, 1 / 16]) * np.sum(Pea)\n",
    "print(P0)\n",
    "from scipy.stats import chisquare\n",
    "\n",
    "# chisquare(f_obs=, f_exp=, ddof=) : 완두콩의 관측도수와 기대도수를 구하여 카이제곱 검정 수행\n",
    "# - f_obs= : 각 범주별 관측도수 지정\n",
    "# - f_exp= : 각 범주별 기대도수 지정, 이 값이 지정되지 않으면 모든 범주의 비율이 동일하게 가정\n",
    "# - ddof(delta degrees of freedom) : p-값 계산시 카이제곱분포의\n",
    "# 자유도 보정에 사용되는 값, 기본값은 ddof=0\n",
    "chisquare(Pea, P0)\n",
    "# 카이제곱 검정 결과, 검정통계량의 관측값은 0.47002, 유의확률(pvalue)은 0.9254로 유의수준 5%하에서 귀무가설을 기각할 수 없다.\n",
    "# 즉, 관측된 완두콩들의 비율은 멘델의 유전법칙을 따른다고 할 수 있다."
   ],
   "id": "f6dd85d08d3fceb9",
   "outputs": [
    {
     "name": "stdout",
     "output_type": "stream",
     "text": [
      "[312.75 104.25 104.25  34.75]\n"
     ]
    },
    {
     "data": {
      "text/plain": [
       "Power_divergenceResult(statistic=np.float64(0.4700239808153477), pvalue=np.float64(0.925425895103616))"
      ]
     },
     "execution_count": 1,
     "metadata": {},
     "output_type": "execute_result"
    }
   ],
   "execution_count": 1
  },
  {
   "metadata": {
    "ExecuteTime": {
     "end_time": "2024-08-06T02:50:20.622879Z",
     "start_time": "2024-08-06T02:50:20.616246Z"
    }
   },
   "cell_type": "code",
   "source": [
    "# 어느 공항 주차장에는 5개의 출입구가 있다. 일정시간 동안에 각 입구를 주차장에 들어온 자동차의 수는 아래 표와 같다. 주차장에 들어온 자동차의 수는 주차장 출입구의 위치와 관계없이 동일한지를 유의수준 𝛼 = 0.05하에서 검정하시오.\n",
    "import numpy as np\n",
    "\n",
    "x = np.array([238, 216, 302, 294, 199])\n",
    "np.sum(x)\n",
    "E = np.array([1 / 5, 1 / 5, 1 / 5, 1 / 5, 1 / 5]) * np.sum(x)\n",
    "from scipy.stats import chisquare\n",
    "\n",
    "chisquare(x, E)"
   ],
   "id": "73a84d3673f419d",
   "outputs": [
    {
     "data": {
      "text/plain": [
       "Power_divergenceResult(statistic=np.float64(34.190552441953564), pvalue=np.float64(6.810532779150125e-07))"
      ]
     },
     "execution_count": 2,
     "metadata": {},
     "output_type": "execute_result"
    }
   ],
   "execution_count": 2
  },
  {
   "metadata": {
    "ExecuteTime": {
     "end_time": "2024-08-06T03:05:48.272819Z",
     "start_time": "2024-08-06T03:05:48.027016Z"
    }
   },
   "cell_type": "code",
   "source": [
    "# 예. (cars93.csv) cars93의 자동차제조국(Origin)과 자동차의 타입(Type) 변수사이에는 연관성이 있는지 유의수준 𝛼 = 0.05에서 알아보자.\n",
    "# 가설\n",
    "# - 귀무가설 𝐻₀ : 자동차 제조국과 자동차 타입은 서로 독립이다\n",
    "# - 대립가설 𝐻₁ : 자동차 제조국과 자동차 타입은 서로 독립이 아니다.\n",
    "import pandas as pd\n",
    "\n",
    "cars93 = pd.read_csv(\"../day22/cars93.csv\")\n",
    "# pd.crosstab함수 : 분할표 작성\n",
    "table = pd.crosstab(index=cars93[\"Origin\"], columns=cars93[\"Type\"])\n",
    "print(table)\n",
    "from scipy.stats import chi2_contingency\n",
    "\n",
    "# chi2_contingency(observed) : Cars93의 \"Origin\"변수와 \"Type\"변수의 분할표에 대하여 카이제곱 검정 수행\n",
    "# - observed = : 관측빈도가 포함된 분할표 지정\n",
    "chi2_contingency(table)"
   ],
   "id": "ff0de53ec8a11b87",
   "outputs": [
    {
     "name": "stdout",
     "output_type": "stream",
     "text": [
      "Type     Compact  Large  Midsize  Small  Sporty  Van\n",
      "Origin                                              \n",
      "USA            7     11       10      7       8    5\n",
      "non-USA        9      0       12     14       6    4\n"
     ]
    },
    {
     "data": {
      "text/plain": [
       "Chi2ContingencyResult(statistic=np.float64(14.079853971260219), pvalue=np.float64(0.015110051037674509), dof=5, expected_freq=array([[ 8.25806452,  5.67741935, 11.35483871, 10.83870968,  7.22580645,\n",
       "         4.64516129],\n",
       "       [ 7.74193548,  5.32258065, 10.64516129, 10.16129032,  6.77419355,\n",
       "         4.35483871]]))"
      ]
     },
     "execution_count": 3,
     "metadata": {},
     "output_type": "execute_result"
    }
   ],
   "execution_count": 3
  },
  {
   "metadata": {
    "ExecuteTime": {
     "end_time": "2024-08-06T03:13:19.411323Z",
     "start_time": "2024-08-06T03:13:19.399117Z"
    }
   },
   "cell_type": "code",
   "source": [
    "# 예. 학업성적과 학생의 성별이 어떤 관계가 있는지 알아보기 위하여 대학생 200명을 무작위 추출하여 조사한 결과 다음과 같은 데이터를 얻었다. 학업성적과 학생의 성별이 어떤 관계가 있는지 유의수준 5%에서 검정하시오.\n",
    "# - 귀무가설 𝐻₀ : 학업성적과 학생의 성별은 연관이 없다. 서로 독립이다\n",
    "# - 대립가설 𝐻₁ : 학업성적과 학생의 성별은 연관이 있다. 서로 독립이 아니다.\n",
    "import numpy as np\n",
    "import pandas as pd\n",
    "\n",
    "x = np.array([[19, 44, 13, 3], [19, 58, 3, 13]])\n",
    "table2 = pd.DataFrame(x, ['Male', 'Female'], ['A', 'B', 'C', 'D'])\n",
    "print(table2)\n",
    "from scipy.stats import chi2_contingency\n",
    "\n",
    "chi2_contingency(table2)"
   ],
   "id": "5363769877784f0e",
   "outputs": [
    {
     "name": "stdout",
     "output_type": "stream",
     "text": [
      "         A   B   C   D\n",
      "Male    19  44  13   3\n",
      "Female  19  58   3  13\n"
     ]
    },
    {
     "data": {
      "text/plain": [
       "Chi2ContingencyResult(statistic=np.float64(13.37061679170103), pvalue=np.float64(0.0038999737722921553), dof=3, expected_freq=array([[17.45348837, 46.84883721,  7.34883721,  7.34883721],\n",
       "       [20.54651163, 55.15116279,  8.65116279,  8.65116279]]))"
      ]
     },
     "execution_count": 4,
     "metadata": {},
     "output_type": "execute_result"
    }
   ],
   "execution_count": 4
  },
  {
   "metadata": {},
   "cell_type": "code",
   "outputs": [],
   "execution_count": null,
   "source": "",
   "id": "e614511f0db8a46f"
  }
 ],
 "metadata": {
  "kernelspec": {
   "display_name": "Python 3",
   "language": "python",
   "name": "python3"
  },
  "language_info": {
   "codemirror_mode": {
    "name": "ipython",
    "version": 2
   },
   "file_extension": ".py",
   "mimetype": "text/x-python",
   "name": "python",
   "nbconvert_exporter": "python",
   "pygments_lexer": "ipython2",
   "version": "2.7.6"
  }
 },
 "nbformat": 4,
 "nbformat_minor": 5
}
