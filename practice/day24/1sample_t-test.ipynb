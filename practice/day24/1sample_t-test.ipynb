{
 "cells": [
  {
   "cell_type": "code",
   "id": "initial_id",
   "metadata": {
    "collapsed": true,
    "ExecuteTime": {
     "end_time": "2024-08-06T01:09:55.382294Z",
     "start_time": "2024-08-06T01:09:55.375915Z"
    }
   },
   "source": [
    "import seaborn as sns\n",
    "\n",
    "tips = sns.load_dataset(\"tips\")\n",
    "from scipy.stats import ttest_1samp\n",
    "\n",
    "# tips 데이터프레임의 tip변수에 대한 양측검정 실시\n",
    "# - a : 검정을 원하는 자료\n",
    "# - popmean : 귀무가설에서 지정된 모수값\n",
    "# - alternative= : “two-sided”(양측검정, 기본값) | “less” (왼쪽 단측검정) | “greater” (오른쪽 단측검정)\n",
    "# - <실행결과> statistic= : t-검정통계량 값 | pvalue= : 유의확률, df= : 자유도\n",
    "ttest_1samp(tips[\"tip\"], popmean=3)"
   ],
   "outputs": [
    {
     "data": {
      "text/plain": [
       "TtestResult(statistic=np.float64(-0.019432641422916876), pvalue=np.float64(0.9845119176410544), df=np.int64(243))"
      ]
     },
     "execution_count": 1,
     "metadata": {},
     "output_type": "execute_result"
    }
   ],
   "execution_count": 1
  },
  {
   "metadata": {
    "ExecuteTime": {
     "end_time": "2024-08-06T01:23:15.047861Z",
     "start_time": "2024-08-06T01:23:15.029329Z"
    }
   },
   "cell_type": "code",
   "source": [
    "# 어느 대학의 신입생 가운데 랜덤하게 15명을 뽑아 심리검사를 실시한 결과 책임감에 대한 점수가 다음 표와 같았다. 이 대학 신입생의 책임감에 대한 평균점수가 40보다 높다라고 할 수 있는지 유의수준 𝛼 = 0.05에서 검정해보자.\n",
    "# 주어진 문제에 대한 가설을 다음과 같다. µ : 책임감 점수의 모평균이라 하면,\n",
    "import numpy as np\n",
    "from scipy.stats import ttest_1samp\n",
    "\n",
    "score = np.array([22, 25, 34, 35, 41, 41, 46,\n",
    "                  46, 46, 47, 49, 54, 54, 59, 60])\n",
    "ttest_1samp(score, popmean=40, alternative=\"greater\")"
   ],
   "id": "5618b9cb89127a01",
   "outputs": [
    {
     "data": {
      "text/plain": [
       "TtestResult(statistic=np.float64(1.354469698602765), pvalue=np.float64(0.0985221184222689), df=np.int64(14))"
      ]
     },
     "execution_count": 2,
     "metadata": {},
     "output_type": "execute_result"
    }
   ],
   "execution_count": 2
  },
  {
   "metadata": {},
   "cell_type": "code",
   "outputs": [],
   "execution_count": null,
   "source": "",
   "id": "5434ebbde9843b21"
  }
 ],
 "metadata": {
  "kernelspec": {
   "display_name": "Python 3",
   "language": "python",
   "name": "python3"
  },
  "language_info": {
   "codemirror_mode": {
    "name": "ipython",
    "version": 2
   },
   "file_extension": ".py",
   "mimetype": "text/x-python",
   "name": "python",
   "nbconvert_exporter": "python",
   "pygments_lexer": "ipython2",
   "version": "2.7.6"
  }
 },
 "nbformat": 4,
 "nbformat_minor": 5
}
