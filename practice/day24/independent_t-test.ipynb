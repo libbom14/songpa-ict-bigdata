{
 "cells": [
  {
   "cell_type": "code",
   "id": "initial_id",
   "metadata": {
    "collapsed": true,
    "ExecuteTime": {
     "end_time": "2024-08-06T01:43:07.906826Z",
     "start_time": "2024-08-06T01:43:07.901198Z"
    }
   },
   "source": [
    "# 예.(paint.txt) 한 페인트 제조회사에서는 새로운 유성페인트를 개발하여 기존의 페인트와의 건조속도를 비교하고자 한다.\n",
    "# 이를 확인하기 위해 시중에서 가장 인기 있는 제품과 새 제품을 각각 5종류의 벽에 칠한 후 건조시간을 측정하였다.\n",
    "# 이 자료들은 서로 독립된 두 모집단에서 추출된 표본이다.\n",
    "# paint.txt는 그룹을 나타내는 변수(group 1=인기제품, 2=새 제품)와 검정 대상이 되는 변수 (time, 건조시간)로 구성되어 있다.\n",
    "# 새로 개발한 페인트 제품은 기존의 제품보다 건조시간이 더 빠르다고 할 수 있는가? 유의수준 𝛼 = 0.05에서 검정해보자.\n",
    "import pandas as pd\n",
    "\n",
    "# groupby() 함수를 이용하여 기존페인트와 새페인트의 건조시간의 평균과 분산 비교\n",
    "# -() 안에는 범주형 변수\n",
    "paint = pd.read_table(\"paint.txt\", sep=\" \")\n",
    "# 기존 페인트(1)와 새페인트(2) 건조시간의 평균비교 비교 : 새 페인트의 건조시간이 좀 더 짧다.\n",
    "paint.groupby(\"group\")[\"time\"].mean()\n",
    "# 기존 페인트(1)와 새페인트(2) 건조시간의 표준편차 비교 : 두 제품간의 차이가 크게 없다.\n",
    "paint.groupby(\"group\")[\"time\"].std()"
   ],
   "outputs": [
    {
     "data": {
      "text/plain": [
       "group\n",
       "1    2.708013\n",
       "2    2.000000\n",
       "Name: time, dtype: float64"
      ]
     },
     "execution_count": 1,
     "metadata": {},
     "output_type": "execute_result"
    }
   ],
   "execution_count": 1
  },
  {
   "metadata": {
    "ExecuteTime": {
     "end_time": "2024-08-06T01:51:19.811015Z",
     "start_time": "2024-08-06T01:51:19.797741Z"
    }
   },
   "cell_type": "code",
   "source": [
    "# ttest_ind 함수(scipy패키지 stats 모듈) : 독립 이표본 검정\n",
    "# 기존페인트와 새페인트 데이터를 분리\n",
    "group1 = paint[paint['group'] == 1]\n",
    "group2 = paint[paint['group'] == 2]\n",
    "# ttest_ind(a, b, equal_var=, alternative= )\n",
    "# - 두 독립표본에 대한 t-검정 수행,\n",
    "# - a=, b= : 검정을 수행할 두 변수 값을 지정\n",
    "# - equal_val= : True (공통분산 가정), False(이분산 가정)\n",
    "# - alternative= : “two-sided”(양측검정, 기본값) | “less” (왼쪽 단측검정) | “greater” (오른쪽 단측검정)\n",
    "# - <실행결과> statistic= : t-검정통계량 값, pvalue= : 유의확률, df= : 자유도\n",
    "from scipy.stats import ttest_ind\n",
    "\n",
    "ttest_ind(group1.time, group2.time, alternative=\"greater\", equal_var=True)\n",
    "# 검정통계량의 관측값은 𝑡 = 2.818이고 pvalue=0.005694이다.\n",
    "# 검정결과, 유의확률이 0.005694로 유의수준 𝛼 = 0.05보다 작으므로 귀무가설을 기각할 수 있다. 따라서 새 페인트의 건조시간은 기존 페인트의 건조시간보다 짧다고 할 수 있다."
   ],
   "id": "4cbccad2d7b0dac9",
   "outputs": [
    {
     "data": {
      "text/plain": [
       "TtestResult(statistic=np.float64(2.8180093098831724), pvalue=np.float64(0.00569415182464645), df=np.float64(18.0))"
      ]
     },
     "execution_count": 2,
     "metadata": {},
     "output_type": "execute_result"
    }
   ],
   "execution_count": 2
  },
  {
   "metadata": {
    "ExecuteTime": {
     "end_time": "2024-08-06T01:56:50.641087Z",
     "start_time": "2024-08-06T01:56:50.633414Z"
    }
   },
   "cell_type": "code",
   "source": [
    "# 예. 다음은 두 집단에서 조사한 체질량 지수의 자료이다. 집단별로 체질량지수는 차이가 있다고 볼 수 있는가? 유의수준 𝛼 = 0.05에서 검정해보자.\n",
    "import numpy as np\n",
    "\n",
    "group1 = np.array([22, 23, 25, 26, 27, 19, 22, 28, 33, 24])\n",
    "group2 = np.array([21, 25, 36, 24, 33, 28, 29, 31, 30, 32, 33, 35])\n",
    "group1.mean()\n",
    "group2.mean()\n",
    "group1.std()\n",
    "group2.std()\n",
    "from scipy.stats import ttest_ind\n",
    "\n",
    "ttest_ind(group1, group2, equal_var=True)"
   ],
   "id": "49cf71dd5e1a1aef",
   "outputs": [
    {
     "data": {
      "text/plain": [
       "TtestResult(statistic=np.float64(-2.643712672303319), pvalue=np.float64(0.01557793053055382), df=np.float64(20.0))"
      ]
     },
     "execution_count": 3,
     "metadata": {},
     "output_type": "execute_result"
    }
   ],
   "execution_count": 3
  },
  {
   "metadata": {},
   "cell_type": "code",
   "outputs": [],
   "execution_count": null,
   "source": "",
   "id": "d5716b5aca484c75"
  }
 ],
 "metadata": {
  "kernelspec": {
   "display_name": "Python 3",
   "language": "python",
   "name": "python3"
  },
  "language_info": {
   "codemirror_mode": {
    "name": "ipython",
    "version": 2
   },
   "file_extension": ".py",
   "mimetype": "text/x-python",
   "name": "python",
   "nbconvert_exporter": "python",
   "pygments_lexer": "ipython2",
   "version": "2.7.6"
  }
 },
 "nbformat": 4,
 "nbformat_minor": 5
}
